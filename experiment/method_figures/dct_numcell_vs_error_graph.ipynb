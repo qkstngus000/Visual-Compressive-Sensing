{
 "cells": [
  {
   "cell_type": "code",
   "execution_count": 1,
   "id": "826e1346",
   "metadata": {},
   "outputs": [],
   "source": [
    "import matplotlib.pyplot as plt\n",
    "import numpy as np\n",
    "import numpy.linalg as la\n",
    "\n",
    "import sys\n",
    "sys.path.append(\"../../\")\n",
    "\n",
    "# Package for importing image representation\n",
    "from PIL import Image, ImageOps\n",
    "\n",
    "# from src.V1_reconst import generate_Y, reconstruct\n",
    "import pandas as pd\n",
    "import seaborn as sns\n",
    "import time\n",
    "import os.path\n",
    "from src.compress_sensing_library import *\n",
    "from src.utility_library import *\n",
    "from src.figure_library import *"
   ]
  },
  {
   "cell_type": "markdown",
   "id": "694e5f6d",
   "metadata": {},
   "source": [
    "# Setup"
   ]
  },
  {
   "cell_type": "code",
   "execution_count": 4,
   "id": "f4637309",
   "metadata": {
    "scrolled": false
   },
   "outputs": [
    {
     "data": {
      "image/png": "[encoded data removed]",
      "text/plain": [
       "<Figure size 432x288 with 1 Axes>"
      ]
     },
     "metadata": {
      "needs_background": "light"
     },
     "output_type": "display_data"
    }
   ],
   "source": [
    "img = 'tree_part1.jpg'\n",
    "img_nm = img.split('.')[0]\n",
    "root = search_root()\n",
    "method = 'dwt'\n",
    "V1_file = 'param_db2_Mon_Apr_24_13_52_32_2023.csv'\n",
    "pixel_file = 'param_db2_Mon_Apr_24_12_36_36_2023.csv'\n",
    "gau_file = 'param_db2_Mon_Apr_24_12_37_23_2023.csv'\n",
    "\n",
    "# data = process_result_data(img, 'dwt', pixel_file, gau_file, V1_file)\n",
    "num_cell_error_figure(img, method, pixel_file, gau_file, V1_file, save = False)\n",
    "# load_V1 = '{root}/result/dwt/{img}/V1/param_db2_Mon_Apr_24_13_52_32_2023.csv'.format(root = root, img = img_nm)\n",
    "# load_pixel = '{root}/result/dct/{img}/pixel/param_db2_Mon_Apr_24_12_36_36_2023.csv'.format(root = root, img = img_nm)\n",
    "# load_gaussian = '{root}/result/dct/{img}/gaussian/param_db2_Mon_Apr_24_12_37_23_2023.csv'.format(root = root, img = img_nm)\n",
    "# directory = \"num_cell_error\"\n",
    "\n",
    "# save = True\n",
    "# data = [load_pixel, load_gaussian, load_V1]\n"
   ]
  },
  {
   "cell_type": "code",
   "execution_count": 12,
   "id": "6a2e1d20",
   "metadata": {},
   "outputs": [
    {
     "data": {
      "text/html": [
       "<div>\n",
       "<style scoped>\n",
       "    .dataframe tbody tr th:only-of-type {\n",
       "        vertical-align: middle;\n",
       "    }\n",
       "\n",
       "    .dataframe tbody tr th {\n",
       "        vertical-align: top;\n",
       "    }\n",
       "\n",
       "    .dataframe thead th {\n",
       "        text-align: right;\n",
       "    }\n",
       "</style>\n",
       "<table border=\"1\" class=\"dataframe\">\n",
       "  <thead>\n",
       "    <tr style=\"text-align: right;\">\n",
       "      <th></th>\n",
       "      <th>Unnamed: 0</th>\n",
       "      <th>rep</th>\n",
       "      <th>lv</th>\n",
       "      <th>alp</th>\n",
       "      <th>num_cell</th>\n",
       "      <th>cell_size</th>\n",
       "      <th>sparse_freq</th>\n",
       "      <th>error</th>\n",
       "    </tr>\n",
       "  </thead>\n",
       "  <tbody>\n",
       "    <tr>\n",
       "      <th>0</th>\n",
       "      <td>0</td>\n",
       "      <td>0</td>\n",
       "      <td>1</td>\n",
       "      <td>0.001</td>\n",
       "      <td>50</td>\n",
       "      <td>1</td>\n",
       "      <td>1</td>\n",
       "      <td>3042.375229</td>\n",
       "    </tr>\n",
       "    <tr>\n",
       "      <th>1</th>\n",
       "      <td>1</td>\n",
       "      <td>0</td>\n",
       "      <td>1</td>\n",
       "      <td>0.001</td>\n",
       "      <td>50</td>\n",
       "      <td>1</td>\n",
       "      <td>2</td>\n",
       "      <td>6580.876056</td>\n",
       "    </tr>\n",
       "    <tr>\n",
       "      <th>2</th>\n",
       "      <td>2</td>\n",
       "      <td>0</td>\n",
       "      <td>1</td>\n",
       "      <td>0.001</td>\n",
       "      <td>50</td>\n",
       "      <td>1</td>\n",
       "      <td>4</td>\n",
       "      <td>6841.155266</td>\n",
       "    </tr>\n",
       "    <tr>\n",
       "      <th>3</th>\n",
       "      <td>3</td>\n",
       "      <td>0</td>\n",
       "      <td>1</td>\n",
       "      <td>0.001</td>\n",
       "      <td>50</td>\n",
       "      <td>1</td>\n",
       "      <td>6</td>\n",
       "      <td>7157.648009</td>\n",
       "    </tr>\n",
       "    <tr>\n",
       "      <th>4</th>\n",
       "      <td>4</td>\n",
       "      <td>0</td>\n",
       "      <td>1</td>\n",
       "      <td>0.001</td>\n",
       "      <td>50</td>\n",
       "      <td>1</td>\n",
       "      <td>8</td>\n",
       "      <td>7538.594242</td>\n",
       "    </tr>\n",
       "    <tr>\n",
       "      <th>...</th>\n",
       "      <td>...</td>\n",
       "      <td>...</td>\n",
       "      <td>...</td>\n",
       "      <td>...</td>\n",
       "      <td>...</td>\n",
       "      <td>...</td>\n",
       "      <td>...</td>\n",
       "      <td>...</td>\n",
       "    </tr>\n",
       "    <tr>\n",
       "      <th>52495</th>\n",
       "      <td>52495</td>\n",
       "      <td>19</td>\n",
       "      <td>4</td>\n",
       "      <td>1000.000</td>\n",
       "      <td>500</td>\n",
       "      <td>8</td>\n",
       "      <td>1</td>\n",
       "      <td>74.031642</td>\n",
       "    </tr>\n",
       "    <tr>\n",
       "      <th>52496</th>\n",
       "      <td>52496</td>\n",
       "      <td>19</td>\n",
       "      <td>4</td>\n",
       "      <td>1000.000</td>\n",
       "      <td>500</td>\n",
       "      <td>8</td>\n",
       "      <td>2</td>\n",
       "      <td>35.942402</td>\n",
       "    </tr>\n",
       "    <tr>\n",
       "      <th>52497</th>\n",
       "      <td>52497</td>\n",
       "      <td>19</td>\n",
       "      <td>4</td>\n",
       "      <td>1000.000</td>\n",
       "      <td>500</td>\n",
       "      <td>8</td>\n",
       "      <td>4</td>\n",
       "      <td>30.552968</td>\n",
       "    </tr>\n",
       "    <tr>\n",
       "      <th>52498</th>\n",
       "      <td>52498</td>\n",
       "      <td>19</td>\n",
       "      <td>4</td>\n",
       "      <td>1000.000</td>\n",
       "      <td>500</td>\n",
       "      <td>8</td>\n",
       "      <td>6</td>\n",
       "      <td>30.345783</td>\n",
       "    </tr>\n",
       "    <tr>\n",
       "      <th>52499</th>\n",
       "      <td>52499</td>\n",
       "      <td>19</td>\n",
       "      <td>4</td>\n",
       "      <td>1000.000</td>\n",
       "      <td>500</td>\n",
       "      <td>8</td>\n",
       "      <td>8</td>\n",
       "      <td>33.040624</td>\n",
       "    </tr>\n",
       "  </tbody>\n",
       "</table>\n",
       "<p>52500 rows × 8 columns</p>\n",
       "</div>"
      ],
      "text/plain": [
       "       Unnamed: 0  rep  lv       alp  num_cell  cell_size  sparse_freq  \\\n",
       "0               0    0   1     0.001        50          1            1   \n",
       "1               1    0   1     0.001        50          1            2   \n",
       "2               2    0   1     0.001        50          1            4   \n",
       "3               3    0   1     0.001        50          1            6   \n",
       "4               4    0   1     0.001        50          1            8   \n",
       "...           ...  ...  ..       ...       ...        ...          ...   \n",
       "52495       52495   19   4  1000.000       500          8            1   \n",
       "52496       52496   19   4  1000.000       500          8            2   \n",
       "52497       52497   19   4  1000.000       500          8            4   \n",
       "52498       52498   19   4  1000.000       500          8            6   \n",
       "52499       52499   19   4  1000.000       500          8            8   \n",
       "\n",
       "             error  \n",
       "0      3042.375229  \n",
       "1      6580.876056  \n",
       "2      6841.155266  \n",
       "3      7157.648009  \n",
       "4      7538.594242  \n",
       "...            ...  \n",
       "52495    74.031642  \n",
       "52496    35.942402  \n",
       "52497    30.552968  \n",
       "52498    30.345783  \n",
       "52499    33.040624  \n",
       "\n",
       "[52500 rows x 8 columns]"
      ]
     },
     "execution_count": 12,
     "metadata": {},
     "output_type": "execute_result"
    }
   ],
   "source": [
    "V1_df = pd.read_csv(load_V1)\n",
    "V1_df"
   ]
  },
  {
   "cell_type": "code",
   "execution_count": 14,
   "id": "e7ee14a3",
   "metadata": {},
   "outputs": [
    {
     "data": {
      "text/html": [
       "<div>\n",
       "<style scoped>\n",
       "    .dataframe tbody tr th:only-of-type {\n",
       "        vertical-align: middle;\n",
       "    }\n",
       "\n",
       "    .dataframe tbody tr th {\n",
       "        vertical-align: top;\n",
       "    }\n",
       "\n",
       "    .dataframe thead th {\n",
       "        text-align: right;\n",
       "    }\n",
       "</style>\n",
       "<table border=\"1\" class=\"dataframe\">\n",
       "  <thead>\n",
       "    <tr style=\"text-align: right;\">\n",
       "      <th></th>\n",
       "      <th>rep</th>\n",
       "      <th>lv</th>\n",
       "      <th>alp</th>\n",
       "      <th>num_cell</th>\n",
       "      <th>cell_size</th>\n",
       "      <th>sparse_freq</th>\n",
       "      <th>error</th>\n",
       "    </tr>\n",
       "  </thead>\n",
       "  <tbody>\n",
       "    <tr>\n",
       "      <th>0</th>\n",
       "      <td>0</td>\n",
       "      <td>1</td>\n",
       "      <td>0.001</td>\n",
       "      <td>50</td>\n",
       "      <td>1</td>\n",
       "      <td>1</td>\n",
       "      <td>3042.375229</td>\n",
       "    </tr>\n",
       "    <tr>\n",
       "      <th>1</th>\n",
       "      <td>0</td>\n",
       "      <td>1</td>\n",
       "      <td>0.001</td>\n",
       "      <td>50</td>\n",
       "      <td>1</td>\n",
       "      <td>2</td>\n",
       "      <td>6580.876056</td>\n",
       "    </tr>\n",
       "    <tr>\n",
       "      <th>2</th>\n",
       "      <td>0</td>\n",
       "      <td>1</td>\n",
       "      <td>0.001</td>\n",
       "      <td>50</td>\n",
       "      <td>1</td>\n",
       "      <td>4</td>\n",
       "      <td>6841.155266</td>\n",
       "    </tr>\n",
       "    <tr>\n",
       "      <th>3</th>\n",
       "      <td>0</td>\n",
       "      <td>1</td>\n",
       "      <td>0.001</td>\n",
       "      <td>50</td>\n",
       "      <td>1</td>\n",
       "      <td>6</td>\n",
       "      <td>7157.648009</td>\n",
       "    </tr>\n",
       "    <tr>\n",
       "      <th>4</th>\n",
       "      <td>0</td>\n",
       "      <td>1</td>\n",
       "      <td>0.001</td>\n",
       "      <td>50</td>\n",
       "      <td>1</td>\n",
       "      <td>8</td>\n",
       "      <td>7538.594242</td>\n",
       "    </tr>\n",
       "    <tr>\n",
       "      <th>...</th>\n",
       "      <td>...</td>\n",
       "      <td>...</td>\n",
       "      <td>...</td>\n",
       "      <td>...</td>\n",
       "      <td>...</td>\n",
       "      <td>...</td>\n",
       "      <td>...</td>\n",
       "    </tr>\n",
       "    <tr>\n",
       "      <th>52495</th>\n",
       "      <td>19</td>\n",
       "      <td>4</td>\n",
       "      <td>1000.000</td>\n",
       "      <td>500</td>\n",
       "      <td>8</td>\n",
       "      <td>1</td>\n",
       "      <td>74.031642</td>\n",
       "    </tr>\n",
       "    <tr>\n",
       "      <th>52496</th>\n",
       "      <td>19</td>\n",
       "      <td>4</td>\n",
       "      <td>1000.000</td>\n",
       "      <td>500</td>\n",
       "      <td>8</td>\n",
       "      <td>2</td>\n",
       "      <td>35.942402</td>\n",
       "    </tr>\n",
       "    <tr>\n",
       "      <th>52497</th>\n",
       "      <td>19</td>\n",
       "      <td>4</td>\n",
       "      <td>1000.000</td>\n",
       "      <td>500</td>\n",
       "      <td>8</td>\n",
       "      <td>4</td>\n",
       "      <td>30.552968</td>\n",
       "    </tr>\n",
       "    <tr>\n",
       "      <th>52498</th>\n",
       "      <td>19</td>\n",
       "      <td>4</td>\n",
       "      <td>1000.000</td>\n",
       "      <td>500</td>\n",
       "      <td>8</td>\n",
       "      <td>6</td>\n",
       "      <td>30.345783</td>\n",
       "    </tr>\n",
       "    <tr>\n",
       "      <th>52499</th>\n",
       "      <td>19</td>\n",
       "      <td>4</td>\n",
       "      <td>1000.000</td>\n",
       "      <td>500</td>\n",
       "      <td>8</td>\n",
       "      <td>8</td>\n",
       "      <td>33.040624</td>\n",
       "    </tr>\n",
       "  </tbody>\n",
       "</table>\n",
       "<p>52500 rows × 7 columns</p>\n",
       "</div>"
      ],
      "text/plain": [
       "       rep  lv       alp  num_cell  cell_size  sparse_freq        error\n",
       "0        0   1     0.001        50          1            1  3042.375229\n",
       "1        0   1     0.001        50          1            2  6580.876056\n",
       "2        0   1     0.001        50          1            4  6841.155266\n",
       "3        0   1     0.001        50          1            6  7157.648009\n",
       "4        0   1     0.001        50          1            8  7538.594242\n",
       "...    ...  ..       ...       ...        ...          ...          ...\n",
       "52495   19   4  1000.000       500          8            1    74.031642\n",
       "52496   19   4  1000.000       500          8            2    35.942402\n",
       "52497   19   4  1000.000       500          8            4    30.552968\n",
       "52498   19   4  1000.000       500          8            6    30.345783\n",
       "52499   19   4  1000.000       500          8            8    33.040624\n",
       "\n",
       "[52500 rows x 7 columns]"
      ]
     },
     "execution_count": 14,
     "metadata": {},
     "output_type": "execute_result"
    }
   ],
   "source": [
    "V1_df = remove_unnamed_data(V1_df)\n",
    "V1_df"
   ]
  },
  {
   "cell_type": "code",
   "execution_count": 16,
   "id": "36ccc22e",
   "metadata": {},
   "outputs": [
    {
     "data": {
      "text/html": [
       "<div>\n",
       "<style scoped>\n",
       "    .dataframe tbody tr th:only-of-type {\n",
       "        vertical-align: middle;\n",
       "    }\n",
       "\n",
       "    .dataframe tbody tr th {\n",
       "        vertical-align: top;\n",
       "    }\n",
       "\n",
       "    .dataframe thead th {\n",
       "        text-align: right;\n",
       "    }\n",
       "</style>\n",
       "<table border=\"1\" class=\"dataframe\">\n",
       "  <thead>\n",
       "    <tr style=\"text-align: right;\">\n",
       "      <th></th>\n",
       "      <th>num_cell</th>\n",
       "      <th>sparse_freq</th>\n",
       "      <th>cell_size</th>\n",
       "      <th>alp</th>\n",
       "      <th>lv</th>\n",
       "      <th>error</th>\n",
       "    </tr>\n",
       "  </thead>\n",
       "  <tbody>\n",
       "    <tr>\n",
       "      <th>0</th>\n",
       "      <td>50</td>\n",
       "      <td>1</td>\n",
       "      <td>1</td>\n",
       "      <td>0.001</td>\n",
       "      <td>1</td>\n",
       "      <td>3576.813059</td>\n",
       "    </tr>\n",
       "    <tr>\n",
       "      <th>1</th>\n",
       "      <td>50</td>\n",
       "      <td>1</td>\n",
       "      <td>1</td>\n",
       "      <td>0.001</td>\n",
       "      <td>2</td>\n",
       "      <td>1288.080522</td>\n",
       "    </tr>\n",
       "    <tr>\n",
       "      <th>2</th>\n",
       "      <td>50</td>\n",
       "      <td>1</td>\n",
       "      <td>1</td>\n",
       "      <td>0.001</td>\n",
       "      <td>4</td>\n",
       "      <td>121.045027</td>\n",
       "    </tr>\n",
       "    <tr>\n",
       "      <th>3</th>\n",
       "      <td>50</td>\n",
       "      <td>1</td>\n",
       "      <td>1</td>\n",
       "      <td>0.010</td>\n",
       "      <td>1</td>\n",
       "      <td>2723.450486</td>\n",
       "    </tr>\n",
       "    <tr>\n",
       "      <th>4</th>\n",
       "      <td>50</td>\n",
       "      <td>1</td>\n",
       "      <td>1</td>\n",
       "      <td>0.010</td>\n",
       "      <td>2</td>\n",
       "      <td>1126.810487</td>\n",
       "    </tr>\n",
       "    <tr>\n",
       "      <th>...</th>\n",
       "      <td>...</td>\n",
       "      <td>...</td>\n",
       "      <td>...</td>\n",
       "      <td>...</td>\n",
       "      <td>...</td>\n",
       "      <td>...</td>\n",
       "    </tr>\n",
       "    <tr>\n",
       "      <th>2620</th>\n",
       "      <td>500</td>\n",
       "      <td>8</td>\n",
       "      <td>8</td>\n",
       "      <td>100.000</td>\n",
       "      <td>2</td>\n",
       "      <td>67.829454</td>\n",
       "    </tr>\n",
       "    <tr>\n",
       "      <th>2621</th>\n",
       "      <td>500</td>\n",
       "      <td>8</td>\n",
       "      <td>8</td>\n",
       "      <td>100.000</td>\n",
       "      <td>4</td>\n",
       "      <td>29.901054</td>\n",
       "    </tr>\n",
       "    <tr>\n",
       "      <th>2622</th>\n",
       "      <td>500</td>\n",
       "      <td>8</td>\n",
       "      <td>8</td>\n",
       "      <td>1000.000</td>\n",
       "      <td>1</td>\n",
       "      <td>262.433756</td>\n",
       "    </tr>\n",
       "    <tr>\n",
       "      <th>2623</th>\n",
       "      <td>500</td>\n",
       "      <td>8</td>\n",
       "      <td>8</td>\n",
       "      <td>1000.000</td>\n",
       "      <td>2</td>\n",
       "      <td>178.322292</td>\n",
       "    </tr>\n",
       "    <tr>\n",
       "      <th>2624</th>\n",
       "      <td>500</td>\n",
       "      <td>8</td>\n",
       "      <td>8</td>\n",
       "      <td>1000.000</td>\n",
       "      <td>4</td>\n",
       "      <td>32.262356</td>\n",
       "    </tr>\n",
       "  </tbody>\n",
       "</table>\n",
       "<p>2625 rows × 6 columns</p>\n",
       "</div>"
      ],
      "text/plain": [
       "      num_cell  sparse_freq  cell_size       alp  lv        error\n",
       "0           50            1          1     0.001   1  3576.813059\n",
       "1           50            1          1     0.001   2  1288.080522\n",
       "2           50            1          1     0.001   4   121.045027\n",
       "3           50            1          1     0.010   1  2723.450486\n",
       "4           50            1          1     0.010   2  1126.810487\n",
       "...        ...          ...        ...       ...  ..          ...\n",
       "2620       500            8          8   100.000   2    67.829454\n",
       "2621       500            8          8   100.000   4    29.901054\n",
       "2622       500            8          8  1000.000   1   262.433756\n",
       "2623       500            8          8  1000.000   2   178.322292\n",
       "2624       500            8          8  1000.000   4    32.262356\n",
       "\n",
       "[2625 rows x 6 columns]"
      ]
     },
     "execution_count": 16,
     "metadata": {},
     "output_type": "execute_result"
    }
   ],
   "source": [
    "V1_mean_df = V1_df.groupby(['num_cell', 'sparse_freq', 'cell_size', 'alp', 'lv'], as_index=False).mean().drop('rep', axis=1) \n",
    "V1_mean_df"
   ]
  },
  {
   "cell_type": "code",
   "execution_count": 21,
   "id": "88663527",
   "metadata": {},
   "outputs": [
    {
     "data": {
      "text/html": [
       "<div>\n",
       "<style scoped>\n",
       "    .dataframe tbody tr th:only-of-type {\n",
       "        vertical-align: middle;\n",
       "    }\n",
       "\n",
       "    .dataframe tbody tr th {\n",
       "        vertical-align: top;\n",
       "    }\n",
       "\n",
       "    .dataframe thead th {\n",
       "        text-align: right;\n",
       "    }\n",
       "</style>\n",
       "<table border=\"1\" class=\"dataframe\">\n",
       "  <thead>\n",
       "    <tr style=\"text-align: right;\">\n",
       "      <th></th>\n",
       "      <th>num_cell</th>\n",
       "      <th>sparse_freq</th>\n",
       "      <th>cell_size</th>\n",
       "      <th>alp</th>\n",
       "      <th>lv</th>\n",
       "      <th>min_error</th>\n",
       "    </tr>\n",
       "  </thead>\n",
       "  <tbody>\n",
       "    <tr>\n",
       "      <th>2192</th>\n",
       "      <td>500</td>\n",
       "      <td>1</td>\n",
       "      <td>8</td>\n",
       "      <td>0.1</td>\n",
       "      <td>4</td>\n",
       "      <td>13.320367</td>\n",
       "    </tr>\n",
       "    <tr>\n",
       "      <th>1730</th>\n",
       "      <td>300</td>\n",
       "      <td>2</td>\n",
       "      <td>4</td>\n",
       "      <td>0.1</td>\n",
       "      <td>4</td>\n",
       "      <td>18.907626</td>\n",
       "    </tr>\n",
       "    <tr>\n",
       "      <th>1229</th>\n",
       "      <td>200</td>\n",
       "      <td>2</td>\n",
       "      <td>6</td>\n",
       "      <td>1.0</td>\n",
       "      <td>4</td>\n",
       "      <td>21.348293</td>\n",
       "    </tr>\n",
       "    <tr>\n",
       "      <th>728</th>\n",
       "      <td>100</td>\n",
       "      <td>2</td>\n",
       "      <td>8</td>\n",
       "      <td>10.0</td>\n",
       "      <td>4</td>\n",
       "      <td>25.827914</td>\n",
       "    </tr>\n",
       "    <tr>\n",
       "      <th>413</th>\n",
       "      <td>50</td>\n",
       "      <td>6</td>\n",
       "      <td>8</td>\n",
       "      <td>10.0</td>\n",
       "      <td>4</td>\n",
       "      <td>28.666624</td>\n",
       "    </tr>\n",
       "  </tbody>\n",
       "</table>\n",
       "</div>"
      ],
      "text/plain": [
       "      num_cell  sparse_freq  cell_size   alp  lv  min_error\n",
       "2192       500            1          8   0.1   4  13.320367\n",
       "1730       300            2          4   0.1   4  18.907626\n",
       "1229       200            2          6   1.0   4  21.348293\n",
       "728        100            2          8  10.0   4  25.827914\n",
       "413         50            6          8  10.0   4  28.666624"
      ]
     },
     "execution_count": 21,
     "metadata": {},
     "output_type": "execute_result"
    }
   ],
   "source": [
    "V1_min_df = V1_mean_df.sort_values('error').drop_duplicates('num_cell')\n",
    "V1_min_df = V1_min_df.rename(columns={'error' : 'min_error'})\n",
    "merge_df = pd.merge(V1_df)"
   ]
  },
  {
   "cell_type": "code",
   "execution_count": 24,
   "id": "b97b1803",
   "metadata": {},
   "outputs": [
    {
     "data": {
      "text/html": [
       "<div>\n",
       "<style scoped>\n",
       "    .dataframe tbody tr th:only-of-type {\n",
       "        vertical-align: middle;\n",
       "    }\n",
       "\n",
       "    .dataframe tbody tr th {\n",
       "        vertical-align: top;\n",
       "    }\n",
       "\n",
       "    .dataframe thead th {\n",
       "        text-align: right;\n",
       "    }\n",
       "</style>\n",
       "<table border=\"1\" class=\"dataframe\">\n",
       "  <thead>\n",
       "    <tr style=\"text-align: right;\">\n",
       "      <th></th>\n",
       "    </tr>\n",
       "  </thead>\n",
       "  <tbody>\n",
       "  </tbody>\n",
       "</table>\n",
       "</div>"
      ],
      "text/plain": [
       "Empty DataFrame\n",
       "Columns: []\n",
       "Index: []"
      ]
     },
     "execution_count": 24,
     "metadata": {},
     "output_type": "execute_result"
    }
   ],
   "source": [
    "V1_min_mean_err_df = pd.DataFrame()\n",
    "V1_min_mean_err_df"
   ]
  },
  {
   "cell_type": "code",
   "execution_count": 27,
   "id": "ef8587b3",
   "metadata": {},
   "outputs": [
    {
     "data": {
      "text/plain": [
       "array([500, 300, 200, 100,  50])"
      ]
     },
     "execution_count": 27,
     "metadata": {},
     "output_type": "execute_result"
    }
   ],
   "source": [
    "V1_mean_df['num_cell'].unique()"
   ]
  },
  {
   "cell_type": "code",
   "execution_count": 32,
   "id": "5601e997",
   "metadata": {},
   "outputs": [],
   "source": [
    "for i in V1_mean_df['num_cell'].unique():\n",
    "        V1_temp = V1_mean_df.loc[V1_mean_df['num_cell'] == i]\n",
    "        #hyperparameter for each number of cell\n",
    "        ## Grabbing values by each values\n",
    "        V1_min_mean_err_df = V1_min_mean_err_df.append(V1_temp.loc[V1_temp['error'] == V1_temp['error'].min()])\n",
    "\n",
    "# load_V1 = '{root}/result/dwt/{img}/V1/param_db2_Mon_Apr_24_13_52_32_2023.csv'.format(root = root, img = img_nm)\n",
    "# load_pixel = '{root}/result/dct/{img}/pixel/param_db2_Mon_Apr_24_12_36_36_2023.csv'.format(root = root, img = img_nm)\n",
    "# load_gaussian = '"
   ]
  },
  {
   "cell_type": "code",
   "execution_count": 33,
   "id": "f523a10d",
   "metadata": {},
   "outputs": [
    {
     "data": {
      "text/html": [
       "<div>\n",
       "<style scoped>\n",
       "    .dataframe tbody tr th:only-of-type {\n",
       "        vertical-align: middle;\n",
       "    }\n",
       "\n",
       "    .dataframe tbody tr th {\n",
       "        vertical-align: top;\n",
       "    }\n",
       "\n",
       "    .dataframe thead th {\n",
       "        text-align: right;\n",
       "    }\n",
       "</style>\n",
       "<table border=\"1\" class=\"dataframe\">\n",
       "  <thead>\n",
       "    <tr style=\"text-align: right;\">\n",
       "      <th></th>\n",
       "      <th>num_cell</th>\n",
       "      <th>sparse_freq</th>\n",
       "      <th>cell_size</th>\n",
       "      <th>alp</th>\n",
       "      <th>lv</th>\n",
       "      <th>error</th>\n",
       "    </tr>\n",
       "  </thead>\n",
       "  <tbody>\n",
       "    <tr>\n",
       "      <th>2192</th>\n",
       "      <td>500</td>\n",
       "      <td>1</td>\n",
       "      <td>8</td>\n",
       "      <td>0.1</td>\n",
       "      <td>4</td>\n",
       "      <td>13.320367</td>\n",
       "    </tr>\n",
       "    <tr>\n",
       "      <th>1730</th>\n",
       "      <td>300</td>\n",
       "      <td>2</td>\n",
       "      <td>4</td>\n",
       "      <td>0.1</td>\n",
       "      <td>4</td>\n",
       "      <td>18.907626</td>\n",
       "    </tr>\n",
       "    <tr>\n",
       "      <th>1229</th>\n",
       "      <td>200</td>\n",
       "      <td>2</td>\n",
       "      <td>6</td>\n",
       "      <td>1.0</td>\n",
       "      <td>4</td>\n",
       "      <td>21.348293</td>\n",
       "    </tr>\n",
       "    <tr>\n",
       "      <th>728</th>\n",
       "      <td>100</td>\n",
       "      <td>2</td>\n",
       "      <td>8</td>\n",
       "      <td>10.0</td>\n",
       "      <td>4</td>\n",
       "      <td>25.827914</td>\n",
       "    </tr>\n",
       "    <tr>\n",
       "      <th>413</th>\n",
       "      <td>50</td>\n",
       "      <td>6</td>\n",
       "      <td>8</td>\n",
       "      <td>10.0</td>\n",
       "      <td>4</td>\n",
       "      <td>28.666624</td>\n",
       "    </tr>\n",
       "  </tbody>\n",
       "</table>\n",
       "</div>"
      ],
      "text/plain": [
       "      num_cell  sparse_freq  cell_size   alp  lv      error\n",
       "2192       500            1          8   0.1   4  13.320367\n",
       "1730       300            2          4   0.1   4  18.907626\n",
       "1229       200            2          6   1.0   4  21.348293\n",
       "728        100            2          8  10.0   4  25.827914\n",
       "413         50            6          8  10.0   4  28.666624"
      ]
     },
     "execution_count": 33,
     "metadata": {},
     "output_type": "execute_result"
    }
   ],
   "source": [
    "V1_min_mean_err_df"
   ]
  },
  {
   "cell_type": "code",
   "execution_count": null,
   "id": "3d70167c",
   "metadata": {},
   "outputs": [],
   "source": []
  },
  {
   "cell_type": "code",
   "execution_count": 4,
   "id": "7e9bd08d",
   "metadata": {
    "scrolled": false
   },
   "outputs": [
    {
     "data": {
      "image/png": "[encoded data removed]",
      "text/plain": [
       "<Figure size 432x288 with 1 Axes>"
      ]
     },
     "metadata": {
      "needs_background": "light"
     },
     "output_type": "display_data"
    }
   ],
   "source": [
    "data = process_result_data(img, method, pixel_file, gau_file, V1_file)\n",
    "plt.xticks(data['V1'][0]['num_cell'])\n",
    "plt.xlabel('num_cell')\n",
    "title = \"Num_Cell_Vs_Error_{img}_\".format(img = img_nm)\n",
    "plt.title(title.replace('_', ' '))\n",
    "\n",
    "\n",
    "for obs, plot in data.items():\n",
    "    sns.lineplot(data = plot[0], x = 'num_cell', y = 'error', palette='Accent', label = obs)\n",
    "    plt.plot(plot[1]['num_cell'], plot[1]['min_error'], 'r.')\n",
    "plt.legend(loc = 'best')\n",
    "plt.savefig(\"temp\", dpi = 200)\n",
    "plt.show()\n"
   ]
  },
  {
   "cell_type": "code",
   "execution_count": 9,
   "id": "d58849f8",
   "metadata": {},
   "outputs": [
    {
     "data": {
      "image/png": "[encoded data removed]",
      "text/plain": [
       "<Figure size 432x288 with 1 Axes>"
      ]
     },
     "metadata": {
      "needs_background": "light"
     },
     "output_type": "display_data"
    }
   ],
   "source": [
    "\n",
    "sns.lineplot(data = data['V1'][0], x = 'num_cell', y = 'error', palette='Accent', legend = False)\n",
    "sns.lineplot(data = data['pixel'][0], x = 'num_cell', y = 'error', palette='Accent', legend = False)\n",
    "sns.lineplot(data = data['gaussian'][0], x = 'num_cell', y = 'error', palette='Accent', legend = False)\n",
    "# plt.yscale('log')\n",
    "plt.xticks(data['V1'][0]['num_cell'])\n",
    "plt.plot(data['V1'][1]['num_cell'], data['V1'][1]['mean_err'], 'r.') # for V1 numcell location\n",
    "plt.plot(data['pixel'][1]['num_cell'].unique(), data['pixel'][1]['mean_err'], 'r.') #For pixel samp location\n",
    "plt.plot(data['gaussian'][1]['num_cell'].unique(), data['gaussian'][1]['mean_err'], 'r.')\n",
    "plt.xlabel('num_cell')\n",
    "title = \"Num_Cell_Vs_Error_{img}_\".format(img = img_nm)\n",
    "plt.title(title.replace('_', ' '))\n",
    "plt.legend(['V1', 'Pixel', 'Gaussian'], loc = 'best')\n",
    "plt.show()\n",
    "\n",
    "# fig_path = fig_save_path('tree_part1', 'dwt', 'combined', 'NumCell_Error_' + \"_\".join(\n",
    "#     str.split(time.ctime().replace(\":\", \"_\"))))\n",
    "# plt.savefig(fig_path, dpi = 200)"
   ]
  },
  {
   "cell_type": "markdown",
   "id": "c22131f6",
   "metadata": {},
   "source": [
    "## Process V1 data"
   ]
  },
  {
   "cell_type": "code",
   "execution_count": 10,
   "id": "3b60f8ce",
   "metadata": {},
   "outputs": [],
   "source": [
    "V1_param_df = pd.read_csv(load_V1)\n",
    "\n",
    "for index in V1_param_df.columns:\n",
    "    if (index == 'Unnamed: 0') :\n",
    "        V1_param_df.drop('Unnamed: 0', axis = 1, inplace=True)"
   ]
  },
  {
   "cell_type": "code",
   "execution_count": 11,
   "id": "0f3b9485",
   "metadata": {},
   "outputs": [],
   "source": [
    "V1_param_mean_df = V1_param_df.groupby(\n",
    "    ['num_cell', 'sparse_freq', 'cell_size', 'alp'], as_index=False).mean().drop('rep', axis=1) \n",
    "\n",
    "V1_param_min_df = V1_param_mean_df.sort_values('error').drop_duplicates('num_cell')\n",
    "V1_param_min_df = V1_param_min_df.rename(columns={'error': 'min_error'})\n",
    "V1_merged_df = pd.merge(V1_param_df, V1_param_min_df, \n",
    "                               on=['num_cell', 'sparse_freq', 'cell_size', 'alp'], how='left')\n",
    "V1_plotting_data = V1_merged_df.loc[V1_merged_df['min_error'].notnull()]"
   ]
  },
  {
   "cell_type": "code",
   "execution_count": 39,
   "id": "59aeeb38",
   "metadata": {},
   "outputs": [],
   "source": [
    "#V1 Data processing\n",
    "V1_min_mean_err_df = pd.DataFrame()\n",
    "for i in V1_param_mean_df['num_cell'].unique():\n",
    "    V1_temp = V1_param_mean_df.loc[V1_param_mean_df['num_cell'] == i]\n",
    "    #hyperparameter for each number of cell\n",
    "    ## Grabbing values by each values\n",
    "    V1_min_mean_err_df = V1_min_mean_err_df.append(V1_temp.loc[V1_temp['error'] == V1_temp['error'].min()])\n",
    "    \n",
    "# Merge two data to extract\n",
    "V1_min_mean_err_df = V1_min_mean_err_df.rename(columns={'error' : 'mean_err'})\n",
    "V1_merged_df = pd.merge(V1_param_df, V1_min_mean_err_df, on = ['num_cell', 'sparse_freq', 'cell_size', 'alp'], how = 'left')\n",
    "V1_plotting_data = V1_merged_df.loc[V1_merged_df['mean_err'].notnull()]\n"
   ]
  },
  {
   "cell_type": "code",
   "execution_count": 40,
   "id": "335d6dea",
   "metadata": {},
   "outputs": [
    {
     "data": {
      "image/png": "[encoded data removed]",
      "text/plain": [
       "<Figure size 360x360 with 1 Axes>"
      ]
     },
     "metadata": {
      "needs_background": "light"
     },
     "output_type": "display_data"
    }
   ],
   "source": [
    "V1_fig = sns.relplot(data = V1_plotting_data, x = 'num_cell', y = 'error', kind= 'line')\n",
    "V1_fig.set(yscale='log')\n",
    "plt.plot(V1_param_min_df['num_cell'].unique(), V1_param_min_df['min_error'], 'r.')\n",
    "title = 'V1_Num_Sample_VS_Error_'\n",
    "plt.title(title.replace('_', ' '))\n",
    "plt.xticks(V1_param_df['num_cell'].unique())\n",
    "\n",
    "\n",
    "# Saving\n",
    "if (save):\n",
    "    fig_path = fig_save_path(img_nm, 'dct', '{directory}/V1'.format(directory = directory), title + \"_\".join(\n",
    "        str.split(time.ctime().replace(\":\", \"_\"))))\n",
    "    plt.savefig(fig_path, dpi = 200)\n",
    "\n",
    "plt.show()"
   ]
  },
  {
   "cell_type": "markdown",
   "id": "ac597209",
   "metadata": {},
   "source": [
    "## Process pixel Data"
   ]
  },
  {
   "cell_type": "code",
   "execution_count": 19,
   "id": "8bd3e02f",
   "metadata": {
    "scrolled": true
   },
   "outputs": [],
   "source": [
    "pixel_param_df = pd.read_csv(load_pixel)\n",
    "for index in pixel_param_df.columns:\n",
    "    if (index == 'Unnamed: 0') :\n",
    "        pixel_param_df.drop('Unnamed: 0', axis = 1, inplace=True)"
   ]
  },
  {
   "cell_type": "code",
   "execution_count": 20,
   "id": "c02f8cc4",
   "metadata": {},
   "outputs": [],
   "source": [
    "pixel_param_mean_df = pixel_param_df.groupby(\n",
    "    ['alp', 'num_cell'], as_index=False).mean().drop('rep', axis=1) \n",
    "\n",
    "pixel_param_min_df = pixel_param_mean_df.sort_values('error').drop_duplicates('num_cell')\n",
    "pixel_param_min_df = pixel_param_min_df.rename(columns={'error': 'min_error'})\n",
    "pixel_merged_df = pd.merge(pixel_param_df, pixel_param_min_df, \n",
    "                               on=['alp', 'num_cell'], how='left')\n",
    "pixel_plotting_data = pixel_merged_df.loc[pixel_merged_df['min_error'].notnull()]"
   ]
  },
  {
   "cell_type": "code",
   "execution_count": 26,
   "id": "0a9b8e33",
   "metadata": {
    "scrolled": false
   },
   "outputs": [
    {
     "data": {
      "image/png": "[encoded data removed]",
      "text/plain": [
       "<Figure size 360x360 with 1 Axes>"
      ]
     },
     "metadata": {
      "needs_background": "light"
     },
     "output_type": "display_data"
    },
    {
     "data": {
      "text/plain": [
       "'/home/bans/Documents/research/figures/dct/peppers/num_cell_error/pixel/Pixel_Num_Sample_VS_Error_Mon_May_15_12_33_00_2023.png'"
      ]
     },
     "execution_count": 26,
     "metadata": {},
     "output_type": "execute_result"
    }
   ],
   "source": [
    "pixel_fig = sns.relplot(data = pixel_plotting_data, x = 'num_cell', y = 'error', kind= 'line')\n",
    "pixel_fig.set(yscale='log')\n",
    "plt.plot(pixel_param_min_df['num_cell'].unique(), pixel_param_min_df['min_error'], 'r.')\n",
    "title = 'Pixel_Num_Sample_VS_Error_'\n",
    "plt.title(title.replace('_', ' '))\n",
    "plt.xticks(pixel_param_df['num_cell'].unique())\n",
    "\n",
    "if (save):\n",
    "    fig_path = fig_save_path(img_nm, 'dct', '{directory}/pixel'.format(directory = directory), title + \"_\".join(\n",
    "        str.split(time.ctime().replace(\":\", \"_\"))))\n",
    "    pixel_fig.savefig(fig_path, dpi = 200)\n",
    "    \n",
    "plt.show()\n",
    "fig_path"
   ]
  },
  {
   "cell_type": "markdown",
   "id": "00babdec",
   "metadata": {},
   "source": [
    "## Load gaussian"
   ]
  },
  {
   "cell_type": "code",
   "execution_count": 27,
   "id": "21c0ea07",
   "metadata": {
    "scrolled": true
   },
   "outputs": [],
   "source": [
    "gaussian_param_df = pd.read_csv(load_gaussian)\n",
    "for index in gaussian_param_df.columns:\n",
    "    if (index == 'Unnamed: 0') :\n",
    "        gaussian_param_df.drop('Unnamed: 0', axis = 1, inplace=True)"
   ]
  },
  {
   "cell_type": "code",
   "execution_count": 28,
   "id": "d31aebe5",
   "metadata": {},
   "outputs": [],
   "source": [
    "gaussian_param_mean_df = gaussian_param_df.groupby(\n",
    "    ['alp', 'num_cell'], as_index=False).mean().drop('rep', axis=1) \n",
    "\n",
    "gaussian_param_min_df = gaussian_param_mean_df.sort_values('error').drop_duplicates('num_cell')\n",
    "gaussian_param_min_df = gaussian_param_min_df.rename(columns={'error': 'min_error'})\n",
    "gaussian_merged_df = pd.merge(gaussian_param_df, gaussian_param_min_df, \n",
    "                               on=['alp', 'num_cell'], how='left')\n",
    "gaussian_plotting_data = gaussian_merged_df.loc[gaussian_merged_df['min_error'].notnull()]"
   ]
  },
  {
   "cell_type": "code",
   "execution_count": 29,
   "id": "63266611",
   "metadata": {
    "scrolled": false
   },
   "outputs": [
    {
     "data": {
      "image/png": "[encoded data removed]",
      "text/plain": [
       "<Figure size 360x360 with 1 Axes>"
      ]
     },
     "metadata": {
      "needs_background": "light"
     },
     "output_type": "display_data"
    }
   ],
   "source": [
    "gaussian_fig = sns.relplot(data = gaussian_plotting_data, x = 'num_cell', y = 'error', kind= 'line')\n",
    "gaussian_fig.set(yscale='log')\n",
    "plt.plot(gaussian_param_min_df['num_cell'].unique(), gaussian_param_min_df['min_error'], 'r.')\n",
    "title = 'Gaussian_Num_Sample_VS_Error_'\n",
    "plt.title(title.replace('_', ' '))\n",
    "plt.xticks(gaussian_param_df['num_cell'].unique())\n",
    "\n",
    "if (save):\n",
    "    fig_path = fig_save_path(img_nm, 'dct', '{directory}/gaussian'.format(directory = directory), title + \"_\".join(\n",
    "        str.split(time.ctime().replace(\":\", \"_\"))))\n",
    "    plt.savefig(fig_path, dpi = 200)\n",
    "\n",
    "plt.show()\n",
    "\n",
    "# for saving\n"
   ]
  },
  {
   "cell_type": "markdown",
   "id": "6115eb19",
   "metadata": {},
   "source": [
    "## V1 Vs Pixel Vs Gaussian"
   ]
  },
  {
   "cell_type": "code",
   "execution_count": 34,
   "id": "2e59660f",
   "metadata": {
    "scrolled": false
   },
   "outputs": [
    {
     "data": {
      "image/png": "[encoded data removed]",
      "text/plain": [
       "<Figure size 432x288 with 1 Axes>"
      ]
     },
     "metadata": {
      "needs_background": "light"
     },
     "output_type": "display_data"
    }
   ],
   "source": [
    "# V1_err = sns.lineplot(data = V1_plotting_data, x = 'num_cell', y = 'error', palette='Accent', legend = False)\n",
    "pixel_err = sns.lineplot(data = pixel_plotting_data, x = 'num_cell', y = 'error')\n",
    "gaussian_err = sns.lineplot(data = gaussian_plotting_data, x = 'num_cell', y = 'error')\n",
    "# plt.yscale('log')\n",
    "# plt.xticks(V1_param_min_df['num_cell'])\n",
    "plt.xticks(pixel_param_min_df['num_cell'])\n",
    "# plt.plot(V1_param_min_df['num_cell'], V1_param_min_df['min_error'], 'r.') # for V1 numcell location\n",
    "plt.plot(pixel_param_min_df['num_cell'].unique(), pixel_param_min_df['min_error'], 'r.') #For pixel samp location\n",
    "plt.plot(gaussian_param_min_df['num_cell'].unique(), gaussian_param_min_df['min_error'], 'r.')\n",
    "plt.xlabel('num_cell')\n",
    "title = \"Num_Cell_Vs_Error_for_all_techniques_{img}_\".format(img = img_nm)\n",
    "plt.title(title.replace('_', ' '))\n",
    "plt.legend(['Pixel', 'Gaussian'], loc = 'best')\n",
    "\n",
    "\n",
    "if (save):\n",
    "    fig_path = fig_save_path(img_nm, 'dct', '{directory}/combined'.format(directory = directory), \n",
    "                             'NumCell_Error_' + \"_\".join(str.split(time.ctime().replace(\":\", \"_\"))))\n",
    "    plt.savefig(fig_path, dpi = 200)\n",
    "plt.show()"
   ]
  },
  {
   "cell_type": "code",
   "execution_count": 15,
   "id": "cfdf0b2e",
   "metadata": {},
   "outputs": [
    {
     "data": {
      "text/plain": [
       "'hello_Wed_Aug_2_15_55_06_2023'"
      ]
     },
     "execution_count": 15,
     "metadata": {},
     "output_type": "execute_result"
    }
   ],
   "source": [
    "s = 'hello'\n",
    "if s[-1] != '_':\n",
    "    s = s + '_'\n",
    "s + \"_\".join(str.split(time.ctime().replace(\":\", \"_\")))"
   ]
  },
  {
   "cell_type": "code",
   "execution_count": 12,
   "id": "599c1292",
   "metadata": {},
   "outputs": [
    {
     "data": {
      "text/plain": [
       "'param_db2_Mon_Apr_24_12_37_23_2023_param_db2_Mon_Apr_24_12_36_36_2023_param_db2_Mon_Apr_24_13_52_32_2023'"
      ]
     },
     "execution_count": 12,
     "metadata": {},
     "output_type": "execute_result"
    }
   ],
   "source": [
    "gau_file.split('.')[0] + '_' + pixel_file.split('.')[0] + '_' + V1_file.split('.')[0]"
   ]
  },
  {
   "cell_type": "code",
   "execution_count": 3,
   "id": "d6d2a333",
   "metadata": {},
   "outputs": [],
   "source": [
    "plotting_dict ={}\n",
    "\n",
    "for load_data in data:\n",
    "    if (load_data != \"-n\"):\n",
    "        param_df = pd.read_csv(load_data)\n",
    "        for index in param_df.columns:\n",
    "            if (index == 'Unnamed: 0') :\n",
    "                param_df.drop('Unnamed: 0', axis = 1, inplace=True)\n",
    "        if (load_data.split(\"_\")[1].lower() != 'v1'):\n",
    "            param_mean_df = param_df.groupby(\n",
    "                ['alp', 'num_cell'], as_index=False).mean().drop('rep', axis=1) \n",
    "\n",
    "            param_min_df = param_mean_df.sort_values('error').drop_duplicates('num_cell')\n",
    "            param_min_df = param_min_df.rename(columns={'error': 'min_error'})\n",
    "            merged_df = pd.merge(param_df, param_min_df, \n",
    "                                           on=['alp', 'num_cell'], how='left')\n",
    "            plotting_data = merged_df.loc[merged_df['min_error'].notnull()]\n",
    "            \n",
    "            "
   ]
  },
  {
   "cell_type": "code",
   "execution_count": null,
   "id": "66021f92",
   "metadata": {},
   "outputs": [],
   "source": []
  }
 ],
 "metadata": {
  "kernelspec": {
   "display_name": "Python 3 (ipykernel)",
   "language": "python",
   "name": "python3"
  },
  "language_info": {
   "codemirror_mode": {
    "name": "ipython",
    "version": 3
   },
   "file_extension": ".py",
   "mimetype": "text/x-python",
   "name": "python",
   "nbconvert_exporter": "python",
   "pygments_lexer": "ipython3",
   "version": "3.9.7"
  }
 },
 "nbformat": 4,
 "nbformat_minor": 5
}
