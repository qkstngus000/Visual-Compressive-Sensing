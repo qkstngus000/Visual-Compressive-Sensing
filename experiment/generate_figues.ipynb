{
 "cells": [
  {
   "cell_type": "code",
   "execution_count": 1,
   "id": "34a3664b",
   "metadata": {},
   "outputs": [],
   "source": [
    "import matplotlib.pyplot as plt\n",
    "import numpy as np\n",
    "import numpy.linalg as la\n",
    "\n",
    "import sys\n",
    "sys.path.append(\"../\")\n",
    "\n",
    "# Package for importing image representation\n",
    "from PIL import Image, ImageOps\n",
    "\n",
    "# from src.V1_reconst import generate_Y, reconstruct\n",
    "import pandas as pd\n",
    "import seaborn as sns\n",
    "import time\n",
    "import os.path\n",
    "from src.figure_library import *\n",
    "from src.utility_library import *"
   ]
  },
  {
   "cell_type": "code",
   "execution_count": 80,
   "id": "61c93417",
   "metadata": {
    "scrolled": false
   },
   "outputs": [
    {
     "name": "stdout",
     "output_type": "stream",
     "text": [
      "Process Reconstruction on (30, 30) image\n"
     ]
    }
   ],
   "source": [
    "img_arr = process_image('tree_part1.jpg', 'b')\n",
    "reconst = filter_reconstruct(img_arr, 500, 7, 4, alpha = 0.1, observation = 'V1')\n",
    "# saving image\n",
    "np.save('tree_part1_grayscaled_reconst.npy', reconst)\n",
    "# fig, ax1, ax2 = error_colorbar(img_arr = img_arr, reconst = reconst, observation = 'V1', num_cell = 200)"
   ]
  },
  {
   "cell_type": "code",
   "execution_count": 79,
   "id": "6ea62ec0",
   "metadata": {},
   "outputs": [
    {
     "data": {
      "image/png": "[encoded data removed]",
      "text/plain": [
       "<Figure size 576x576 with 3 Axes>"
      ]
     },
     "metadata": {
      "needs_background": "light"
     },
     "output_type": "display_data"
    }
   ],
   "source": [
    "fig, ax1, ax2 = error_colorbar(img_arr = img_arr, reconst = reconst, observation = 'V1', num_cell = 200)"
   ]
  },
  {
   "cell_type": "code",
   "execution_count": 7,
   "id": "5651f26c",
   "metadata": {},
   "outputs": [
    {
     "data": {
      "text/plain": [
       "array([[[ 46,  22,  12],\n",
       "        [ 18,  28,  19],\n",
       "        [ 20,  29,   0],\n",
       "        ...,\n",
       "        [ 37,   0,  30],\n",
       "        [ 18,   8,  52],\n",
       "        [  1,  -4,   5]],\n",
       "\n",
       "       [[ 43,  29,  26],\n",
       "        [ 33,  12,   0],\n",
       "        [ -1,   0,  -1],\n",
       "        ...,\n",
       "        [ 27,   0,   0],\n",
       "        [  0,  33,  60],\n",
       "        [-15,   0,   0]],\n",
       "\n",
       "       [[ 11,   0,  29],\n",
       "        [ 14,  -1,  29],\n",
       "        [  8,   1,  11],\n",
       "        ...,\n",
       "        [  9,   1,  17],\n",
       "        [ -1,  26,  76],\n",
       "        [  0,  18,  21]],\n",
       "\n",
       "       ...,\n",
       "\n",
       "       [[ -8,   0,   0],\n",
       "        [ -8, -22, -12],\n",
       "        [-10,   5,   0],\n",
       "        ...,\n",
       "        [ 32,  53,   0],\n",
       "        [ 10,  35,  23],\n",
       "        [  4,  23,  -9]],\n",
       "\n",
       "       [[-11,  12, -23],\n",
       "        [-16,   0, -27],\n",
       "        [ -7,  11, -21],\n",
       "        ...,\n",
       "        [ 41,  49,   0],\n",
       "        [ 12,  36,   0],\n",
       "        [ -5,   0,  34]],\n",
       "\n",
       "       [[  2,   0, -17],\n",
       "        [-27,  32, -22],\n",
       "        [  0,  31,  -8],\n",
       "        ...,\n",
       "        [ 29,  46,   0],\n",
       "        [  0,  34,   8],\n",
       "        [  0,  -7,   0]]])"
      ]
     },
     "execution_count": 7,
     "metadata": {},
     "output_type": "execute_result"
    }
   ],
   "source": [
    "img_arr - reconst"
   ]
  },
  {
   "cell_type": "code",
   "execution_count": 6,
   "id": "89a11f63",
   "metadata": {},
   "outputs": [
    {
     "data": {
      "text/plain": [
       "array([[[209, 214, 220],\n",
       "        [206, 211, 217],\n",
       "        [212, 217, 221],\n",
       "        ...,\n",
       "        [177, 213, 209],\n",
       "        [160, 196, 194],\n",
       "        [153, 192, 191]],\n",
       "\n",
       "       [[216, 221, 227],\n",
       "        [202, 207, 211],\n",
       "        [198, 206, 209],\n",
       "        ...,\n",
       "        [165, 202, 195],\n",
       "        [162, 198, 194],\n",
       "        [154, 190, 190]],\n",
       "\n",
       "       [[201, 209, 212],\n",
       "        [189, 197, 199],\n",
       "        [190, 198, 200],\n",
       "        ...,\n",
       "        [152, 187, 180],\n",
       "        [171, 206, 200],\n",
       "        [170, 205, 201]],\n",
       "\n",
       "       ...,\n",
       "\n",
       "       [[191, 208, 190],\n",
       "        [190, 207, 189],\n",
       "        [189, 206, 188],\n",
       "        ...,\n",
       "        [194, 212, 200],\n",
       "        [195, 213, 201],\n",
       "        [195, 213, 201]],\n",
       "\n",
       "       [[190, 208, 186],\n",
       "        [189, 207, 185],\n",
       "        [188, 206, 184],\n",
       "        ...,\n",
       "        [193, 211, 199],\n",
       "        [194, 212, 200],\n",
       "        [194, 212, 200]],\n",
       "\n",
       "       [[196, 214, 190],\n",
       "        [196, 214, 190],\n",
       "        [195, 213, 189],\n",
       "        ...,\n",
       "        [192, 210, 196],\n",
       "        [192, 210, 198],\n",
       "        [192, 210, 198]]], dtype=uint8)"
      ]
     },
     "execution_count": 6,
     "metadata": {},
     "output_type": "execute_result"
    }
   ],
   "source": []
  },
  {
   "cell_type": "code",
   "execution_count": 38,
   "id": "6ec75f6b",
   "metadata": {},
   "outputs": [
    {
     "data": {
      "text/plain": [
       "'Tue Aug  1 16_30_17 2023'"
      ]
     },
     "execution_count": 38,
     "metadata": {},
     "output_type": "execute_result"
    }
   ],
   "source": [
    "s = 'hello'\n",
    "time.ctime().replace(\":\", \"_\")"
   ]
  },
  {
   "cell_type": "code",
   "execution_count": 48,
   "id": "381b5771",
   "metadata": {},
   "outputs": [
    {
     "data": {
      "text/plain": [
       "'hello_Tue_Aug_1_16_32_54_2023'"
      ]
     },
     "execution_count": 48,
     "metadata": {},
     "output_type": "execute_result"
    }
   ],
   "source": [
    "s+ \"_\"+\"_\".join(str.split(time.ctime().replace(\":\", \"_\")))"
   ]
  },
  {
   "cell_type": "code",
   "execution_count": 74,
   "id": "36013e70",
   "metadata": {},
   "outputs": [
    {
     "data": {
      "text/plain": [
       "'pixel'"
      ]
     },
     "execution_count": 74,
     "metadata": {},
     "output_type": "execute_result"
    }
   ],
   "source": [
    "\n",
    "if (observation.split('/')[0] == 'v1' or observation.split('/')[0] == 'V1') :\n",
    "    observation = observation.upper()\n",
    "else :\n",
    "    observation = observation.lower()\n",
    "observation"
   ]
  },
  {
   "cell_type": "code",
   "execution_count": 69,
   "id": "a121652b",
   "metadata": {},
   "outputs": [
    {
     "data": {
      "text/plain": [
       "'v1'"
      ]
     },
     "execution_count": 69,
     "metadata": {},
     "output_type": "execute_result"
    }
   ],
   "source": [
    "observation.split('/')[0]"
   ]
  },
  {
   "cell_type": "code",
   "execution_count": null,
   "id": "1d5b2ec3",
   "metadata": {},
   "outputs": [],
   "source": []
  }
 ],
 "metadata": {
  "kernelspec": {
   "display_name": "Python 3 (ipykernel)",
   "language": "python",
   "name": "python3"
  },
  "language_info": {
   "codemirror_mode": {
    "name": "ipython",
    "version": 3
   },
   "file_extension": ".py",
   "mimetype": "text/x-python",
   "name": "python",
   "nbconvert_exporter": "python",
   "pygments_lexer": "ipython3",
   "version": "3.9.7"
  }
 },
 "nbformat": 4,
 "nbformat_minor": 5
}
